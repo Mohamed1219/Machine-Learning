{
  "cells": [
    {
      "cell_type": "markdown",
      "source": [
        "# Gaussian Discriminative Analysis"
      ],
      "metadata": {}
    },
    {
      "cell_type": "markdown",
      "source": [
        "In here we continue with the probabilistic methods of Machine Learning. Please recall that we are trying the estimate the conditional probability"
      ],
      "metadata": {}
    },
    {
      "cell_type": "markdown",
      "source": [
        "$$P(X=x|Y=y)$$"
      ],
      "metadata": {}
    },
    {
      "cell_type": "markdown",
      "source": [
        "where $X$ represents our data or features and $Y$ is the  class label. Using Bayes theorem we can then infer the \"inverted\" conditional probability"
      ],
      "metadata": {}
    },
    {
      "cell_type": "markdown",
      "source": [
        "$$P(Y=y|X=x)=\n",
        "\\frac{P(X=x|Y=y)P(Y=y)}\n",
        "{\\sum_y P(X=x|Y=y)P(Y=y)}$$"
      ],
      "metadata": {}
    },
    {
      "cell_type": "markdown",
      "source": [
        "This is the probability that examplar $x$  belongs to class $y$. This probability can be then used to construct a classifier by suitable thresholding. "
      ],
      "metadata": {}
    },
    {
      "cell_type": "markdown",
      "source": [
        "If $X$ is a categorical variable with finite support, we can list all the probabilities. In case of continous  features we have to bin the data or use some parametrized distribution. The most widely used distribution is of course the Normal (Gaussian) distribution. We have already used  it  in our \"sex  from height and weight\" example. So far we have only used the one dimensional distribution, fitting separately height and weight (or rather BMI). In this notebook we will try to estimate the joint height-weight conditional probability distribution directly. "
      ],
      "metadata": {}
    },
    {
      "cell_type": "markdown",
      "source": [
        "We will start by loading the data (we will use the same [kaggle dataset](https://www.kaggle.com/mustafaali96/weight-height)) and converting it to metric units"
      ],
      "metadata": {}
    },
    {
      "cell_type": "code",
      "source": [
        "import matplotlib.pyplot as plt\n",
        "import numpy as np\n",
        "import scipy.stats as st\n",
        "%matplotlib inline\n",
        "plt.rcParams[\"figure.figsize\"] = [12,8]\n",
        "import pandas as pd"
      ],
      "outputs": [
        {
          "output_type": "stream",
          "name": "stderr",
          "text": [
            "C:\\Users\\Hazem Abbas\\miniconda3\\envs\\ptch\\lib\\site-packages\\numpy\\__init__.py:138: UserWarning: mkl-service package failed to import, therefore Intel(R) MKL initialization ensuring its correct out-of-the box operation under condition when Gnu OpenMP had already been loaded by Python process is not assured. Please install mkl-service package, see http://github.com/IntelPython/mkl-service\n",
            "  from . import _distributor_init\n"
          ]
        },
        {
          "output_type": "error",
          "ename": "ImportError",
          "evalue": "\n\nIMPORTANT: PLEASE READ THIS FOR ADVICE ON HOW TO SOLVE THIS ISSUE!\n\nImporting the numpy C-extensions failed. This error can happen for\nmany reasons, often due to issues with your setup or how NumPy was\ninstalled.\n\nWe have compiled some common reasons and troubleshooting tips at:\n\n    https://numpy.org/devdocs/user/troubleshooting-importerror.html\n\nPlease note and check the following:\n\n  * The Python version is: Python3.7 from \"C:\\Users\\Hazem Abbas\\miniconda3\\envs\\ptch\\python.exe\"\n  * The NumPy version is: \"1.19.2\"\n\nand make sure that they are the versions you expect.\nPlease carefully study the documentation linked above for further help.\n\nOriginal error was: DLL load failed: The specified module could not be found.\n",
          "traceback": [
            "\u001b[1;31m---------------------------------------------------------------------------\u001b[0m",
            "\u001b[1;31mImportError\u001b[0m                               Traceback (most recent call last)",
            "\u001b[1;32m~\\miniconda3\\envs\\ptch\\lib\\site-packages\\numpy\\core\\__init__.py\u001b[0m in \u001b[0;36m<module>\u001b[1;34m\u001b[0m\n\u001b[0;32m     21\u001b[0m \u001b[1;32mtry\u001b[0m\u001b[1;33m:\u001b[0m\u001b[1;33m\u001b[0m\u001b[1;33m\u001b[0m\u001b[0m\n\u001b[1;32m---> 22\u001b[1;33m     \u001b[1;32mfrom\u001b[0m \u001b[1;33m.\u001b[0m \u001b[1;32mimport\u001b[0m \u001b[0mmultiarray\u001b[0m\u001b[1;33m\u001b[0m\u001b[1;33m\u001b[0m\u001b[0m\n\u001b[0m\u001b[0;32m     23\u001b[0m \u001b[1;32mexcept\u001b[0m \u001b[0mImportError\u001b[0m \u001b[1;32mas\u001b[0m \u001b[0mexc\u001b[0m\u001b[1;33m:\u001b[0m\u001b[1;33m\u001b[0m\u001b[1;33m\u001b[0m\u001b[0m\n",
            "\u001b[1;32m~\\miniconda3\\envs\\ptch\\lib\\site-packages\\numpy\\core\\multiarray.py\u001b[0m in \u001b[0;36m<module>\u001b[1;34m\u001b[0m\n\u001b[0;32m     11\u001b[0m \u001b[1;33m\u001b[0m\u001b[0m\n\u001b[1;32m---> 12\u001b[1;33m \u001b[1;32mfrom\u001b[0m \u001b[1;33m.\u001b[0m \u001b[1;32mimport\u001b[0m \u001b[0moverrides\u001b[0m\u001b[1;33m\u001b[0m\u001b[1;33m\u001b[0m\u001b[0m\n\u001b[0m\u001b[0;32m     13\u001b[0m \u001b[1;32mfrom\u001b[0m \u001b[1;33m.\u001b[0m \u001b[1;32mimport\u001b[0m \u001b[0m_multiarray_umath\u001b[0m\u001b[1;33m\u001b[0m\u001b[1;33m\u001b[0m\u001b[0m\n",
            "\u001b[1;32m~\\miniconda3\\envs\\ptch\\lib\\site-packages\\numpy\\core\\overrides.py\u001b[0m in \u001b[0;36m<module>\u001b[1;34m\u001b[0m\n\u001b[0;32m      6\u001b[0m \u001b[1;33m\u001b[0m\u001b[0m\n\u001b[1;32m----> 7\u001b[1;33m from numpy.core._multiarray_umath import (\n\u001b[0m\u001b[0;32m      8\u001b[0m     add_docstring, implement_array_function, _get_implementing_args)\n",
            "\u001b[1;31mImportError\u001b[0m: DLL load failed: The specified module could not be found.",
            "\nDuring handling of the above exception, another exception occurred:\n",
            "\u001b[1;31mImportError\u001b[0m                               Traceback (most recent call last)",
            "\u001b[1;32mC:\\Users\\HAZEMA~1\\AppData\\Local\\Temp/ipykernel_21836/1171704195.py\u001b[0m in \u001b[0;36m<module>\u001b[1;34m\u001b[0m\n\u001b[1;32m----> 1\u001b[1;33m \u001b[1;32mimport\u001b[0m \u001b[0mmatplotlib\u001b[0m\u001b[1;33m.\u001b[0m\u001b[0mpyplot\u001b[0m \u001b[1;32mas\u001b[0m \u001b[0mplt\u001b[0m\u001b[1;33m\u001b[0m\u001b[1;33m\u001b[0m\u001b[0m\n\u001b[0m\u001b[0;32m      2\u001b[0m \u001b[1;32mimport\u001b[0m \u001b[0mnumpy\u001b[0m \u001b[1;32mas\u001b[0m \u001b[0mnp\u001b[0m\u001b[1;33m\u001b[0m\u001b[1;33m\u001b[0m\u001b[0m\n\u001b[0;32m      3\u001b[0m \u001b[1;32mimport\u001b[0m \u001b[0mscipy\u001b[0m\u001b[1;33m.\u001b[0m\u001b[0mstats\u001b[0m \u001b[1;32mas\u001b[0m \u001b[0mst\u001b[0m\u001b[1;33m\u001b[0m\u001b[1;33m\u001b[0m\u001b[0m\n\u001b[0;32m      4\u001b[0m \u001b[0mget_ipython\u001b[0m\u001b[1;33m(\u001b[0m\u001b[1;33m)\u001b[0m\u001b[1;33m.\u001b[0m\u001b[0mrun_line_magic\u001b[0m\u001b[1;33m(\u001b[0m\u001b[1;34m'matplotlib'\u001b[0m\u001b[1;33m,\u001b[0m \u001b[1;34m'inline'\u001b[0m\u001b[1;33m)\u001b[0m\u001b[1;33m\u001b[0m\u001b[1;33m\u001b[0m\u001b[0m\n\u001b[0;32m      5\u001b[0m \u001b[0mplt\u001b[0m\u001b[1;33m.\u001b[0m\u001b[0mrcParams\u001b[0m\u001b[1;33m[\u001b[0m\u001b[1;34m\"figure.figsize\"\u001b[0m\u001b[1;33m]\u001b[0m \u001b[1;33m=\u001b[0m \u001b[1;33m[\u001b[0m\u001b[1;36m12\u001b[0m\u001b[1;33m,\u001b[0m\u001b[1;36m8\u001b[0m\u001b[1;33m]\u001b[0m\u001b[1;33m\u001b[0m\u001b[1;33m\u001b[0m\u001b[0m\n",
            "\u001b[1;32m~\\miniconda3\\envs\\ptch\\lib\\site-packages\\matplotlib\\__init__.py\u001b[0m in \u001b[0;36m<module>\u001b[1;34m\u001b[0m\n\u001b[0;32m    105\u001b[0m \u001b[1;31m# cbook must import matplotlib only within function\u001b[0m\u001b[1;33m\u001b[0m\u001b[1;33m\u001b[0m\u001b[1;33m\u001b[0m\u001b[0m\n\u001b[0;32m    106\u001b[0m \u001b[1;31m# definitions, so it is safe to import from it here.\u001b[0m\u001b[1;33m\u001b[0m\u001b[1;33m\u001b[0m\u001b[1;33m\u001b[0m\u001b[0m\n\u001b[1;32m--> 107\u001b[1;33m \u001b[1;32mfrom\u001b[0m \u001b[1;33m.\u001b[0m \u001b[1;32mimport\u001b[0m \u001b[0m_api\u001b[0m\u001b[1;33m,\u001b[0m \u001b[0mcbook\u001b[0m\u001b[1;33m,\u001b[0m \u001b[0mdocstring\u001b[0m\u001b[1;33m,\u001b[0m \u001b[0mrcsetup\u001b[0m\u001b[1;33m\u001b[0m\u001b[1;33m\u001b[0m\u001b[0m\n\u001b[0m\u001b[0;32m    108\u001b[0m \u001b[1;32mfrom\u001b[0m \u001b[0mmatplotlib\u001b[0m\u001b[1;33m.\u001b[0m\u001b[0mcbook\u001b[0m \u001b[1;32mimport\u001b[0m \u001b[0mMatplotlibDeprecationWarning\u001b[0m\u001b[1;33m,\u001b[0m \u001b[0msanitize_sequence\u001b[0m\u001b[1;33m\u001b[0m\u001b[1;33m\u001b[0m\u001b[0m\n\u001b[0;32m    109\u001b[0m \u001b[1;32mfrom\u001b[0m \u001b[0mmatplotlib\u001b[0m\u001b[1;33m.\u001b[0m\u001b[0mcbook\u001b[0m \u001b[1;32mimport\u001b[0m \u001b[0mmplDeprecation\u001b[0m  \u001b[1;31m# deprecated\u001b[0m\u001b[1;33m\u001b[0m\u001b[1;33m\u001b[0m\u001b[0m\n",
            "\u001b[1;32m~\\miniconda3\\envs\\ptch\\lib\\site-packages\\matplotlib\\cbook\\__init__.py\u001b[0m in \u001b[0;36m<module>\u001b[1;34m\u001b[0m\n\u001b[0;32m     26\u001b[0m \u001b[1;32mimport\u001b[0m \u001b[0mweakref\u001b[0m\u001b[1;33m\u001b[0m\u001b[1;33m\u001b[0m\u001b[0m\n\u001b[0;32m     27\u001b[0m \u001b[1;33m\u001b[0m\u001b[0m\n\u001b[1;32m---> 28\u001b[1;33m \u001b[1;32mimport\u001b[0m \u001b[0mnumpy\u001b[0m \u001b[1;32mas\u001b[0m \u001b[0mnp\u001b[0m\u001b[1;33m\u001b[0m\u001b[1;33m\u001b[0m\u001b[0m\n\u001b[0m\u001b[0;32m     29\u001b[0m \u001b[1;33m\u001b[0m\u001b[0m\n\u001b[0;32m     30\u001b[0m \u001b[1;32mimport\u001b[0m \u001b[0mmatplotlib\u001b[0m\u001b[1;33m\u001b[0m\u001b[1;33m\u001b[0m\u001b[0m\n",
            "\u001b[1;32m~\\miniconda3\\envs\\ptch\\lib\\site-packages\\numpy\\__init__.py\u001b[0m in \u001b[0;36m<module>\u001b[1;34m\u001b[0m\n\u001b[0;32m    138\u001b[0m     \u001b[1;32mfrom\u001b[0m \u001b[1;33m.\u001b[0m \u001b[1;32mimport\u001b[0m \u001b[0m_distributor_init\u001b[0m\u001b[1;33m\u001b[0m\u001b[1;33m\u001b[0m\u001b[0m\n\u001b[0;32m    139\u001b[0m \u001b[1;33m\u001b[0m\u001b[0m\n\u001b[1;32m--> 140\u001b[1;33m     \u001b[1;32mfrom\u001b[0m \u001b[1;33m.\u001b[0m \u001b[1;32mimport\u001b[0m \u001b[0mcore\u001b[0m\u001b[1;33m\u001b[0m\u001b[1;33m\u001b[0m\u001b[0m\n\u001b[0m\u001b[0;32m    141\u001b[0m     \u001b[1;32mfrom\u001b[0m \u001b[1;33m.\u001b[0m\u001b[0mcore\u001b[0m \u001b[1;32mimport\u001b[0m \u001b[1;33m*\u001b[0m\u001b[1;33m\u001b[0m\u001b[1;33m\u001b[0m\u001b[0m\n\u001b[0;32m    142\u001b[0m     \u001b[1;32mfrom\u001b[0m \u001b[1;33m.\u001b[0m \u001b[1;32mimport\u001b[0m \u001b[0mcompat\u001b[0m\u001b[1;33m\u001b[0m\u001b[1;33m\u001b[0m\u001b[0m\n",
            "\u001b[1;32m~\\miniconda3\\envs\\ptch\\lib\\site-packages\\numpy\\core\\__init__.py\u001b[0m in \u001b[0;36m<module>\u001b[1;34m\u001b[0m\n\u001b[0;32m     46\u001b[0m \"\"\" % (sys.version_info[0], sys.version_info[1], sys.executable,\n\u001b[0;32m     47\u001b[0m         __version__, exc)\n\u001b[1;32m---> 48\u001b[1;33m     \u001b[1;32mraise\u001b[0m \u001b[0mImportError\u001b[0m\u001b[1;33m(\u001b[0m\u001b[0mmsg\u001b[0m\u001b[1;33m)\u001b[0m\u001b[1;33m\u001b[0m\u001b[1;33m\u001b[0m\u001b[0m\n\u001b[0m\u001b[0;32m     49\u001b[0m \u001b[1;32mfinally\u001b[0m\u001b[1;33m:\u001b[0m\u001b[1;33m\u001b[0m\u001b[1;33m\u001b[0m\u001b[0m\n\u001b[0;32m     50\u001b[0m     \u001b[1;32mfor\u001b[0m \u001b[0menvkey\u001b[0m \u001b[1;32min\u001b[0m \u001b[0menv_added\u001b[0m\u001b[1;33m:\u001b[0m\u001b[1;33m\u001b[0m\u001b[1;33m\u001b[0m\u001b[0m\n",
            "\u001b[1;31mImportError\u001b[0m: \n\nIMPORTANT: PLEASE READ THIS FOR ADVICE ON HOW TO SOLVE THIS ISSUE!\n\nImporting the numpy C-extensions failed. This error can happen for\nmany reasons, often due to issues with your setup or how NumPy was\ninstalled.\n\nWe have compiled some common reasons and troubleshooting tips at:\n\n    https://numpy.org/devdocs/user/troubleshooting-importerror.html\n\nPlease note and check the following:\n\n  * The Python version is: Python3.7 from \"C:\\Users\\Hazem Abbas\\miniconda3\\envs\\ptch\\python.exe\"\n  * The NumPy version is: \"1.19.2\"\n\nand make sure that they are the versions you expect.\nPlease carefully study the documentation linked above for further help.\n\nOriginal error was: DLL load failed: The specified module could not be found.\n"
          ]
        }
      ],
      "execution_count": 1,
      "metadata": {
        "slideshow": {
          "slide_type": "slide"
        },
        "execution": {
          "iopub.status.busy": "2021-12-22T15:04:06.066Z",
          "iopub.execute_input": "2021-12-22T15:04:06.094Z"
        }
      }
    },
    {
      "cell_type": "code",
      "source": [
        "data = pd.read_csv('Data_HeightWeight.csv')"
      ],
      "outputs": [],
      "execution_count": null,
      "metadata": {}
    },
    {
      "cell_type": "code",
      "source": [
        "inch = 0.01 * 2.54 # m\n",
        "pound = 0.453 # kg"
      ],
      "outputs": [],
      "execution_count": null,
      "metadata": {}
    },
    {
      "cell_type": "code",
      "source": [
        "data['Height'] = data['Height'] *inch \n",
        "data['Weight'] = data['Weight'] *pound"
      ],
      "outputs": [],
      "execution_count": null,
      "metadata": {}
    },
    {
      "cell_type": "markdown",
      "source": [
        "As always we will split the data into training and testing sets"
      ],
      "metadata": {}
    },
    {
      "cell_type": "code",
      "source": [
        "from sklearn.model_selection import  train_test_split"
      ],
      "outputs": [],
      "execution_count": null,
      "metadata": {}
    },
    {
      "cell_type": "code",
      "source": [
        "#by fixing the seed we guarantee that we can split the set in same way each time\n",
        "#this maybe handy for debuging purposes\n",
        "seed = 77678 \n",
        "train_data, test_data  = train_test_split(data,test_size=0.25, random_state=seed)"
      ],
      "outputs": [],
      "execution_count": null,
      "metadata": {}
    },
    {
      "cell_type": "code",
      "source": [
        "train_data_F = train_data[train_data.Gender=='Female']\n",
        "train_data_M = train_data[train_data.Gender=='Male']\n",
        "print(\"train \", len(train_data_F), len(train_data_M))\n",
        "test_data_F = test_data[test_data.Gender=='Female']\n",
        "test_data_M = test_data[test_data.Gender=='Male']\n",
        "print(\"test  \", len(test_data_F), len(test_data_M))"
      ],
      "outputs": [],
      "execution_count": null,
      "metadata": {}
    },
    {
      "cell_type": "markdown",
      "source": [
        "We see that the classes (gender) are balanced  across the training and testig sets."
      ],
      "metadata": {}
    },
    {
      "cell_type": "code",
      "source": [
        "# setting colors for consistency throughout the notebook you can subsitute here your favorite \"gender colors\" :) \n",
        "f_color = 'blue'\n",
        "m_color ='orange'\n",
        "color = 'lightgrey'"
      ],
      "outputs": [],
      "execution_count": null,
      "metadata": {}
    },
    {
      "cell_type": "markdown",
      "source": [
        "The distribution for each gender looks as follows on scatter plot"
      ],
      "metadata": {}
    },
    {
      "cell_type": "code",
      "source": [
        "plt.scatter(train_data_F.Height, train_data_F.Weight, alpha=0.2, c = f_color, label='Women');\n",
        "plt.scatter(train_data_M.Height, train_data_M.Weight, alpha=0.2, c = m_color, label='Men');\n",
        "plt.legend();\n",
        "plt.xlabel('Height')\n",
        "plt.ylabel('Weight');"
      ],
      "outputs": [],
      "execution_count": null,
      "metadata": {}
    },
    {
      "cell_type": "markdown",
      "source": [
        "and on histograms"
      ],
      "metadata": {}
    },
    {
      "cell_type": "code",
      "source": [
        "fig, ax = plt.subplots()\n",
        "ax.set_xlabel('Height [m]');\n",
        "ax.set_ylabel('Weight [kg]');\n",
        "hb = ax.hist2d(train_data['Height'], train_data['Weight'], bins=[100,80], density=True);\n",
        "fig.colorbar(hb[3], ax=ax);"
      ],
      "outputs": [],
      "execution_count": null,
      "metadata": {}
    },
    {
      "cell_type": "markdown",
      "source": [
        "Sometimes we can get a better looking picture with hexagonal bins:"
      ],
      "metadata": {}
    },
    {
      "cell_type": "code",
      "source": [
        "fig, ax = plt.subplots()\n",
        "ax.set_xlabel('Height [m]')\n",
        "ax.set_ylabel('Weight [kg]')\n",
        "hb = ax.hexbin(train_data['Height'], train_data['Weight']);\n",
        "fig.colorbar(hb);\n",
        "ax.set_xlim(1.4,2.0);\n",
        "ax.set_ylim(35,120);"
      ],
      "outputs": [],
      "execution_count": null,
      "metadata": {}
    },
    {
      "cell_type": "markdown",
      "source": [
        "Because we will be using those plots often, for convenience I have wrapped them in few functions below"
      ],
      "metadata": {}
    },
    {
      "cell_type": "code",
      "source": [
        "def hw_plot(**kwargs):\n",
        "    fig, ax = plt.subplots()\n",
        "    ax.set_xlabel('Height [m]')\n",
        "    ax.set_ylabel('Weight [kg]')\n",
        "    return fig,ax\n",
        "\n",
        "def hw_scatter(fig,ax, F, M):\n",
        "    ax.scatter(F.Height, F.Weight, alpha=0.2, c = f_color, label='Women');\n",
        "    ax.scatter(M.Height, M.Weight, alpha=0.2, c = m_color, label='Men');\n",
        "    ax.legend();\n",
        "\n",
        "def hw_hist(fig, ax, df):\n",
        "    hb = ax.hist2d(train_data['Height'], train_data['Weight'], bins=[100,80], density=True);\n",
        "    fig.colorbar(hb[3], ax=ax);\n",
        "    return hb\n",
        "\n",
        "def hw_hexbin(fig, ax, df, **kwargs):\n",
        "    hb = ax.hexbin(df['Height'], df['Weight'], **kwargs);\n",
        "    fig.colorbar(hb);\n",
        "    return hb"
      ],
      "outputs": [],
      "execution_count": null,
      "metadata": {
        "tags": [
          "fold"
        ]
      }
    },
    {
      "cell_type": "markdown",
      "source": [
        "We would like to find the joint probability density function: "
      ],
      "metadata": {}
    },
    {
      "cell_type": "markdown",
      "source": [
        "$$P(h,w|S=s)$$"
      ],
      "metadata": {}
    },
    {
      "cell_type": "markdown",
      "source": [
        "which we will assume is a _multivariate gaussian distribution_:"
      ],
      "metadata": {}
    },
    {
      "cell_type": "markdown",
      "source": [
        "$$P(\\mathbf{x}|S=s)\\sim \\mathcal{N}(\\mu_s,\\Sigma_s)$$"
      ],
      "metadata": {}
    },
    {
      "cell_type": "markdown",
      "source": [
        "The probability density function of this distribution in $D$ dimensions  is given by the formula:"
      ],
      "metadata": {}
    },
    {
      "cell_type": "markdown",
      "source": [
        "$$\\newcommand{\\b}[1]{\\mathbf{#1}}$$\n",
        "$$P(\\mathbf{x}|\\b\\mu,\\b\\Sigma)=\n",
        "\\frac{1}{(2\\pi)^{D/2}|\\mathbf\\Sigma|^{1/2}}\n",
        "e^{\\displaystyle-\\frac{1}{2}\\left(\\mathbf{x}-\\b\\mu\\right)^T\\mathbf{\\Sigma}^{-1}\\left(\\mathbf{x}-\\b\\mu\\right)}\n",
        "$$"
      ],
      "metadata": {}
    },
    {
      "cell_type": "markdown",
      "source": [
        "$\\mathbf{x}$ and $\\mathbf{\\mu}$ are $D$-dimensional vectors $\\mathbf{\\mu}$ being the mean or the center of the distribution. $\\mathbf{\\Sigma}$ is $D\\times D$ dimensional symmetric _covariance_ matrix. $|\\b\\Sigma|$ denotes the _determinant_ of the matrix. "
      ],
      "metadata": {}
    },
    {
      "cell_type": "markdown",
      "source": [
        "__Question__ How many parameters does the model have?"
      ],
      "metadata": {}
    },
    {
      "cell_type": "markdown",
      "source": [
        "$\\mathbf{\\mu}$ nas $D$ parameters and a symmetric matrix  has $(D^2-D)/2+D=D(D+1)/2$ parameters giving altogether $D(D+3)/2$ parameters."
      ],
      "metadata": {
        "jupyter": {
          "source_hidden": true
        },
        "tags": [
          "answer"
        ]
      }
    },
    {
      "cell_type": "markdown",
      "source": [
        "### MLE estimate of multivariate gaussian parameters"
      ],
      "metadata": {}
    },
    {
      "cell_type": "markdown",
      "source": [
        "Let $\\b X$  be $N\\times D$ the measurement matrix. Each row is a $D$ dimensional vector of measurements $\\b X_i$. Assumimg that all measurments come from the Multivariate  Gaussian distribution with parameters $\\b\\mu$ and  $\\Sigma$ the likelihood is"
      ],
      "metadata": {}
    },
    {
      "cell_type": "markdown",
      "source": [
        "$$\\prod_{i=1}^N P(\\b X_i|\\b\\mu,\\b\\Sigma)$$"
      ],
      "metadata": {}
    },
    {
      "cell_type": "markdown",
      "source": [
        "and the log likelihood is: "
      ],
      "metadata": {}
    },
    {
      "cell_type": "markdown",
      "source": [
        "$$\\sum_{i=1}^N \\log P(\\b X_i|\\b\\mu,\\b\\Sigma) =  \n",
        "- N \\frac{1}{2}\\log |\\Sigma| -\\sum_{i=1}^N\\frac{1}{2}\\left(\\mathbf{X_i}-\\mu\\right)^T\\mathbf{\\Sigma}^{-1}\\left(\\mathbf{X_i}-\\mu\\right) + const$$"
      ],
      "metadata": {}
    },
    {
      "cell_type": "markdown",
      "source": [
        "the last term can be rewritten as"
      ],
      "metadata": {}
    },
    {
      "cell_type": "markdown",
      "source": [
        "$$\\newcommand{\\tr}{\\operatorname{Tr}}$$\n",
        "$$\n",
        "\\frac{1}{2}\\sum_{i=1}^N\\sum_{j,k=1}^D\n",
        "\\left(X_{ij}-\\mu_j\\right)\n",
        "\\left(\\b{\\Sigma}^{-1}\\right)_{jk}\n",
        "\\left(X_{ik}-\\mu_k\\right)\n",
        "=\\frac{N}{2}\\tr \\b C \\,\\b\\Sigma^{-1} \n",
        "$$"
      ],
      "metadata": {}
    },
    {
      "cell_type": "markdown",
      "source": [
        "where $\\b C$ is $D \\times D$  empirical covariance matrix"
      ],
      "metadata": {}
    },
    {
      "cell_type": "markdown",
      "source": [
        "$$C_{jk}=\\frac{1}{N}\\sum_{i}\\left(X_{ij}-\\mu_j\\right)\\left(X_{ik}-\\mu_k\\right)$$"
      ],
      "metadata": {}
    },
    {
      "cell_type": "markdown",
      "source": [
        "$\\tr$ is the _trace_ operator (the sum of the elements on the diagonal):"
      ],
      "metadata": {}
    },
    {
      "cell_type": "markdown",
      "source": [
        "$$\\tr \\b A\\equiv \\sum_{i=1}^{D} A_{ii}$$"
      ],
      "metadata": {}
    },
    {
      "cell_type": "markdown",
      "source": [
        "To compute the MLE estimates we have to differentiate this expression with respect to $\\b \\mu$ and $\\Sigma$. Let's start with $\\b \\mu$. The likelihood depends on $\\mu$ only trough the matrix $\\b C$"
      ],
      "metadata": {}
    },
    {
      "cell_type": "markdown",
      "source": [
        "$$\\frac{\\partial}{\\partial \\mu_m}C_{jk}\n",
        "=\\frac{1}{N}\\sum_{i}\\frac{\\partial}{\\partial \\mu_m}\\left(X_{ij}-\\mu_j\\right)\\left(X_{ik}-\\mu_k\\right)\n",
        "=-\\frac{1}{N}\\sum_{i}\\left(\\delta_{m,j}\\left(X_{ik}-\\mu_k\\right) + \\delta_{m,k}\\left(X_{ij}-\\mu_j\\right)\\right)\n",
        "$$ "
      ],
      "metadata": {}
    },
    {
      "cell_type": "markdown",
      "source": [
        "$$\\frac{\\partial}{\\partial \\mu_m}C_{jk}=-\\delta_{m,j}\\left(\\overline{ x}_{k}-\\mu_k\\right) - \\delta_{m,k}\\left(\\overline{ x}_j-\\mu_j\\right)$$"
      ],
      "metadata": {}
    },
    {
      "cell_type": "markdown",
      "source": [
        "$$\\frac{1}{2}\\frac{\\partial}{\\partial \\mu_m}\\left(\\tr \\b C \\,\\b\\Sigma^{-1}\\right) = \n",
        "\\frac{1}{2}\\left(\\frac{\\partial}{\\partial \\mu_m}\\tr \\b C\\right) \\,\\b\\Sigma^{-1} = \n",
        "-\\frac{1}{2}\\sum_{jk}\n",
        "\\left(\n",
        "\\delta_{m,j}\\left(\\overline{ x}_{k}+\\mu_k\\right) - \\delta_{m,k}\\left(\\overline{ x}_j-\\mu_j\\right))\n",
        "\\right)\n",
        "\\left(\\b\\Sigma^{-1}\\right)_{kj}=-\\sum_{k}\\left(\\b\\Sigma^{-1}\\right)_{mk}\\left(\\overline{ x}_{k}+\\mu_k\\right)\n",
        "$$"
      ],
      "metadata": {}
    },
    {
      "cell_type": "markdown",
      "source": [
        "where we have used the fact that $\\Sigma$ is a symmetric matrix. Or in vector notation"
      ],
      "metadata": {}
    },
    {
      "cell_type": "markdown",
      "source": [
        "$$\\frac{1}{2}\\frac{\\partial}{\\partial \\b \\mu}\\tr \\b C \\,\\b\\Sigma^{-1} = -\\b\\Sigma^{-1}(\\b x -\\b \\mu)$$"
      ],
      "metadata": {}
    },
    {
      "cell_type": "markdown",
      "source": [
        "Assuming thar $\\b\\Sigma^{-1}$ is not singular, the solution to "
      ],
      "metadata": {}
    },
    {
      "cell_type": "markdown",
      "source": [
        "$$\\b\\Sigma^{-1}(\\overline{\\b x} -\\b \\mu)=0$$"
      ],
      "metadata": {}
    },
    {
      "cell_type": "markdown",
      "source": [
        "equation is unsurprisingly "
      ],
      "metadata": {}
    },
    {
      "cell_type": "markdown",
      "source": [
        "$$\\b \\mu = \\overline{\\b x}$$"
      ],
      "metadata": {}
    },
    {
      "cell_type": "markdown",
      "source": [
        "The differentiation with respect to $\\b\\Sigma$ is more difficult and instead we will look for the inverse matrix $\\b A= \\b\\Sigma^{-1}$.  Because the determinant of the inverse matrix is the inverse of the determinant the expression we have to minimize is  "
      ],
      "metadata": {}
    },
    {
      "cell_type": "markdown",
      "source": [
        "$$\\frac{1}{2}\\log |\\b A|-\\frac{1}{2}\\tr \\b C \\,\\b A$$"
      ],
      "metadata": {}
    },
    {
      "cell_type": "markdown",
      "source": [
        "Differentiating with respect to element $A_{kl}$ we obtain"
      ],
      "metadata": {}
    },
    {
      "cell_type": "markdown",
      "source": [
        "$$\\frac{1}{2}\\frac{\\partial}{\\partial A_{kl}}\\log |\\b A|-\\frac{1}{2}\\frac{\\partial}{\\partial A_{kl}}\\tr \\b C \\,\\b A \n",
        "=\n",
        "\\frac{1}{2}\\frac{\\partial}{\\partial A_{kl}}\\log |\\b A|-\\frac{1}{2}C_{lk}\n",
        "$$"
      ],
      "metadata": {}
    },
    {
      "cell_type": "markdown",
      "source": [
        "__Problem__  Show that "
      ],
      "metadata": {}
    },
    {
      "cell_type": "markdown",
      "source": [
        "$$\\frac{\\partial}{\\partial A_{kl}}\\log |\\b A|  = \\left({\\b A}^{-1}\\right)_{lk}$$"
      ],
      "metadata": {}
    },
    {
      "cell_type": "markdown",
      "source": [
        "__Hint__ Use the Laplace expansion of the determinant. "
      ],
      "metadata": {}
    },
    {
      "cell_type": "markdown",
      "source": [
        "Using the above epression we obtain finally the equation for MLE of $\\b A$"
      ],
      "metadata": {}
    },
    {
      "cell_type": "markdown",
      "source": [
        "$$ \\left({\\b A}^{-1}\\right)_{lk}\\equiv \\Sigma_{lk}=C_{lk}$$"
      ],
      "metadata": {}
    },
    {
      "cell_type": "markdown",
      "source": [
        "So the  again unsurprisingly the covariance matrix is approximated by its empirical value. As we will find out this estimatiom runs into severe problems in higher dimension but for the moment we can use it \"as is\" for our classifier. Below are two helper functions to calculate those estimators and to construct a corresponing distribution object. "
      ],
      "metadata": {}
    },
    {
      "cell_type": "code",
      "source": [
        "def gaussian_stats(X):\n",
        "    mu = np.mean(X,0)\n",
        "    sigma = np.cov(X,rowvar=False)\n",
        "    return mu, sigma\n",
        "\n",
        "def mv_gaussian_mle_fit(X):\n",
        "    mu, sigma = gaussian_stats(X)\n",
        "    return st.multivariate_normal(mu, sigma)"
      ],
      "outputs": [],
      "execution_count": null,
      "metadata": {}
    },
    {
      "cell_type": "markdown",
      "source": [
        "In two dimensions we can visualise the distribution by drawing the countour lines. For multivariate gaussian those are ellipses. I have included a function to plot \n",
        "ellipses of given radius expressed in units of standard deviation $\\sigma$. It is adapted from [Plot a confidence ellipse of a two-dimensional dataset](https://matplotlib.org/3.2.1/gallery/statistics/confidence_ellipse.html#sphx-glr-gallery-statistics-confidence-ellipse-py)  and described [here](https://carstenschelp.github.io/2018/09/14/Plot_Confidence_Ellipse_001.html). If you have cloned my repo you can use it by importing the `plotting` module from `mchlearn` package as follows:"
      ],
      "metadata": {}
    },
    {
      "cell_type": "code",
      "source": [
        "import sys\n",
        "sys.path.append(\"../../\") #need to add main repo directory to the system path used for searching packages\n",
        "from mchlearn.plotting import confidence_ellipse"
      ],
      "outputs": [],
      "execution_count": null,
      "metadata": {}
    },
    {
      "cell_type": "code",
      "source": [
        "mu_F, cov_F = gaussian_stats(train_data_F[['Height', 'Weight']])\n",
        "mu_M, cov_M = gaussian_stats(train_data_M[['Height', 'Weight']])"
      ],
      "outputs": [],
      "execution_count": null,
      "metadata": {}
    },
    {
      "cell_type": "markdown",
      "source": [
        "By default ellipsed are drawn with a three $\\sigma$ radius"
      ],
      "metadata": {}
    },
    {
      "cell_type": "code",
      "source": [
        "fig, ax = hw_plot()\n",
        "hw_scatter(fig, ax, train_data_F, train_data_M)\n",
        "confidence_ellipse(mu_F, cov_F, ax, edgecolor = f_color)\n",
        "confidence_ellipse(mu_M, cov_M, ax, edgecolor = m_color);"
      ],
      "outputs": [],
      "execution_count": null,
      "metadata": {}
    },
    {
      "cell_type": "markdown",
      "source": [
        "### Fitting the class priors"
      ],
      "metadata": {}
    },
    {
      "cell_type": "markdown",
      "source": [
        "Actually our model has some more parameters: those are the _a priori_ probabilities of each class. We can either set them \"by hand\" as we did before:"
      ],
      "metadata": {}
    },
    {
      "cell_type": "code",
      "source": [
        "p_F = 0.5\n",
        "p_M = 1- p_F"
      ],
      "outputs": [],
      "execution_count": null,
      "metadata": {}
    },
    {
      "cell_type": "markdown",
      "source": [
        "Or we can fit them from the data using MLE using the joint probability distribution both on labels $y_i$ and features $\\b X_i$"
      ],
      "metadata": {}
    },
    {
      "cell_type": "markdown",
      "source": [
        "$$P(\\b X,\\b y| \\theta) = \\prod_{i=1}^N  P(\\b X_i|\\b\\mu_{y_i},\\b\\Sigma_{y_i})\\pi_{y_i}$$"
      ],
      "metadata": {}
    },
    {
      "cell_type": "markdown",
      "source": [
        "Here $\\theta$ denotes all parameter of the model: $\\mu$, $\\Sigma$  and prior $\\pi$ for each class.  The log likehood is "
      ],
      "metadata": {}
    },
    {
      "cell_type": "markdown",
      "source": [
        "$$\\sum_{i=1}^N \\left(\\log \\pi_{y_i} +\\log P(\\b X_i|\\b\\mu_{y_i},\\b\\Sigma_{y_i}) \\right) = \n",
        "\\sum_c N_c \\log \\pi_c +\\sum_c \\sum_{i:y_i=c}\\log P(\\b X_i|\\b\\mu_{y_i},\\b\\Sigma_{y_i}) $$"
      ],
      "metadata": {}
    },
    {
      "cell_type": "markdown",
      "source": [
        "$N_c$ denotes the number of samples in each class. For the last term we proceed as before fitting $\\b\\mu$ and $\\b\\Sigma$ for each class. The priors require slightly more caution. We cannot just differentiate with respect to  priors $\\pi_c$ because the priors are not independent as their sum must be equal one.  We will have to use the [Lagrange multipliers method](https://en.wikipedia.org/wiki/Lagrange_multiplier).  What we differentiate is the expression"
      ],
      "metadata": {}
    },
    {
      "cell_type": "markdown",
      "source": [
        "$$\\sum_c N_c \\log \\pi_c+\\lambda \\sum_c \\pi_c$$ "
      ],
      "metadata": {}
    },
    {
      "cell_type": "markdown",
      "source": [
        "Differentiating with respect to $\\pi_d$ leads to equation"
      ],
      "metadata": {}
    },
    {
      "cell_type": "markdown",
      "source": [
        "$$\\frac{N_d}{\\pi_d}+\\lambda =0\\quad\\text{or}\\quad \\pi_d = -\\frac{N_d}{\\lambda}$$"
      ],
      "metadata": {}
    },
    {
      "cell_type": "markdown",
      "source": [
        "Adjustig $\\lambda$ as to fulfill the constraint gives us the final answer"
      ],
      "metadata": {}
    },
    {
      "cell_type": "markdown",
      "source": [
        "$$\\pi_d = \\frac{N_d}{N}$$"
      ],
      "metadata": {}
    },
    {
      "cell_type": "markdown",
      "source": [
        "### Classification"
      ],
      "metadata": {}
    },
    {
      "cell_type": "markdown",
      "source": [
        "Once we have the distributions in each class and class priors  we can finally calculate the probability of a person being a woman by Bayes theorem:"
      ],
      "metadata": {}
    },
    {
      "cell_type": "markdown",
      "source": [
        "$$P(S=f|h,w) = \\frac{P(h,w|S=f) P(S=f)}{P(h,w|S=f) P(S=f)+P(h,w|S=m) P(S=m)}$$"
      ],
      "metadata": {}
    },
    {
      "cell_type": "code",
      "source": [
        "dist_F = mv_gaussian_mle_fit(train_data_F[['Height', 'Weight']])\n",
        "dist_M = mv_gaussian_mle_fit(train_data_M[['Height', 'Weight']])"
      ],
      "outputs": [],
      "execution_count": null,
      "metadata": {}
    },
    {
      "cell_type": "code",
      "source": [
        "def prob_F_cond_HW(hw):\n",
        "    pf = dist_F.pdf(hw)*p_F\n",
        "    pm = dist_M.pdf(hw)*p_M\n",
        "    return pf/(pf+pm)"
      ],
      "outputs": [],
      "execution_count": null,
      "metadata": {}
    },
    {
      "cell_type": "markdown",
      "source": [
        "We then calculate all the usuall metrics"
      ],
      "metadata": {}
    },
    {
      "cell_type": "code",
      "source": [
        "test_predicted_proba_gda = prob_F_cond_HW(test_data[['Height','Weight']])"
      ],
      "outputs": [],
      "execution_count": null,
      "metadata": {}
    },
    {
      "cell_type": "code",
      "source": [
        "from sklearn.metrics import roc_curve, roc_auc_score, confusion_matrix"
      ],
      "outputs": [],
      "execution_count": null,
      "metadata": {}
    },
    {
      "cell_type": "code",
      "source": [
        "pd.DataFrame(confusion_matrix(test_data.Gender=='Female', test_predicted_proba_gda>0.5, normalize='true'))"
      ],
      "outputs": [],
      "execution_count": null,
      "metadata": {}
    },
    {
      "cell_type": "markdown",
      "source": [
        "DataFrame is used only for \"pretty printing\". The true labels correspond to rows and predicted to columns. The normalisation set to  'true' mean that the numbers in each row add up to one. So the matrix above corresponds to"
      ],
      "metadata": {}
    },
    {
      "cell_type": "code",
      "source": [
        "pd.DataFrame({0: ['TNR', 'FPR'], 1: ['FPR','TPR']})"
      ],
      "outputs": [],
      "execution_count": null,
      "metadata": {
        "jupyter": {
          "source_hidden": true
        },
        "tags": [
          "fold"
        ]
      }
    },
    {
      "cell_type": "code",
      "source": [
        "from mchlearn.plotting import roc_plot"
      ],
      "outputs": [],
      "execution_count": null,
      "metadata": {}
    },
    {
      "cell_type": "code",
      "source": [
        "def add_roc_curve(fig, ax, y_true, y_score, name):\n",
        "    fprs, tprs, thds = roc_curve(y_true, y_score)\n",
        "    auc = roc_auc_score(y_true, y_score)\n",
        "    ax.plot(fprs, tprs, label=\"{:s}  {:5.3f}\".format(name, auc));\n",
        "    return fprs, tprs, thds, auc"
      ],
      "outputs": [],
      "execution_count": null,
      "metadata": {}
    },
    {
      "cell_type": "code",
      "source": [
        "fig, ax = roc_plot()\n",
        "add_roc_curve(fig, ax, test_data.Gender=='Female', test_predicted_proba_gda, \"GDA\")\n",
        "ax.legend(title='AUC');"
      ],
      "outputs": [],
      "execution_count": null,
      "metadata": {}
    },
    {
      "cell_type": "markdown",
      "source": [
        "If you look back at our Naive Bayes Height-BMI classfier you can see that the performance is almost identical. "
      ],
      "metadata": {}
    },
    {
      "cell_type": "markdown",
      "source": [
        "### Decision boundaries"
      ],
      "metadata": {}
    },
    {
      "cell_type": "markdown",
      "source": [
        "To get an insight into the working of this classifier we will look at the decisions boundaries: lines or surfaces separating the regions of $R^D$ corresponding to each class.  E.g. in our example this will be the line defined by equation"
      ],
      "metadata": {}
    },
    {
      "cell_type": "markdown",
      "source": [
        "$$P(F|h,w)=\\frac{1}{2}$$"
      ],
      "metadata": {}
    },
    {
      "cell_type": "markdown",
      "source": [
        "To visualize this boundary I will draw the countour line(s) of $P(F|h,w)$. This  is slightly technical  and I have provided a function that generates the data\n",
        "suitable to be used directly in the matplotlib `contour`  and `contourf` functions.  Those functions can be found in the `plotting` module in the `mchlearn` package. "
      ],
      "metadata": {}
    },
    {
      "cell_type": "code",
      "source": [
        "from mchlearn.plotting import grid"
      ],
      "outputs": [],
      "execution_count": null,
      "metadata": {}
    },
    {
      "cell_type": "code",
      "source": [
        "hs = np.linspace(1.3, 2.1,100)\n",
        "ws = np.linspace(30,120, 100)"
      ],
      "outputs": [],
      "execution_count": null,
      "metadata": {}
    },
    {
      "cell_type": "code",
      "source": [
        "fig, ax = hw_plot()\n",
        "hw_scatter(fig, ax, train_data_F, train_data_M)\n",
        "confidence_ellipse(mu_F, cov_F, ax, edgecolor = f_color)\n",
        "confidence_ellipse(mu_M, cov_M, ax, edgecolor = m_color)\n",
        "cs = ax.contour(*grid(hs,ws,prob_F_cond_HW), [0.25, 0.5, 0.75], colors=['coral','red', 'coral']);\n",
        "ax.clabel(cs);"
      ],
      "outputs": [],
      "execution_count": null,
      "metadata": {}
    },
    {
      "cell_type": "markdown",
      "source": [
        "I have included boundaries for three different thresholds. Here is the same picture but using the histogram instead of scatter plot"
      ],
      "metadata": {}
    },
    {
      "cell_type": "code",
      "source": [
        "fig, ax = hw_plot()\n",
        "hw_hexbin(fig,ax, train_data)\n",
        "ax.set_xlim(1.4,2.0)\n",
        "confidence_ellipse(mu_F, cov_F, ax, edgecolor = f_color)\n",
        "confidence_ellipse(mu_M, cov_M, ax, edgecolor = m_color)\n",
        "cs = ax.contour(*grid(hs,ws,prob_F_cond_HW), [0.25, 0.5, 0.75], colors=['coral','red', 'coral']);\n",
        "ax.clabel(cs);"
      ],
      "outputs": [],
      "execution_count": null,
      "metadata": {}
    },
    {
      "cell_type": "markdown",
      "source": [
        "## Quadratic Discriminant Analysis"
      ],
      "metadata": {}
    },
    {
      "cell_type": "markdown",
      "source": [
        "As you can see the decision boundary is not a straight line. Actually we can show that this is a quadratic curve. "
      ],
      "metadata": {}
    },
    {
      "cell_type": "markdown",
      "source": [
        " A quadratic surface is a ensemble of all points $\\b x$ such that"
      ],
      "metadata": {}
    },
    {
      "cell_type": "markdown",
      "source": [
        "$$F(\\b x) = 0$$"
      ],
      "metadata": {}
    },
    {
      "cell_type": "markdown",
      "source": [
        "and function $F$ is a polynomial of degree at most two in the coordinates of the vector $x$. In two dimension this can be an ellipse, a parabola, a hyperbola, two intersecting lines and parallel lines.  E.g. the ellipse is given by the equation:"
      ],
      "metadata": {}
    },
    {
      "cell_type": "markdown",
      "source": [
        "$$a x_1^2 +b x_2^2-c = 0,\\qquad a,b,c > 0$$"
      ],
      "metadata": {}
    },
    {
      "cell_type": "markdown",
      "source": [
        "__Problem__ Give the equation for two intersecting lines and two parallel lines. "
      ],
      "metadata": {}
    },
    {
      "cell_type": "markdown",
      "source": [
        "__Hint__ The line is defined by equation"
      ],
      "metadata": {
        "tags": [
          "problem",
          "hint"
        ]
      }
    },
    {
      "cell_type": "markdown",
      "source": [
        "$$a x_1+ b x_2 -d =0$$"
      ],
      "metadata": {
        "tags": [
          "hint"
        ]
      }
    },
    {
      "cell_type": "markdown",
      "source": [
        "In general case of more then two classes  the decision boundary between classes is a piecewise quadratic surface. More specifically, a decision boundary between any two classes is a quadratic surface. That's why this method is called _Quadratic Discriminant Analysis_. "
      ],
      "metadata": {}
    },
    {
      "cell_type": "markdown",
      "source": [
        "To show this let's write again the conditional class probability:"
      ],
      "metadata": {}
    },
    {
      "cell_type": "markdown",
      "source": [
        "$$P(Y=c|X=x)=\\frac{P(X=x|Y=c)\\pi_c}{\\sum_c P(X=x|Y=c)\\pi_c}$$"
      ],
      "metadata": {}
    },
    {
      "cell_type": "markdown",
      "source": [
        "Assuming the usuall majority rule the classifier will return the class with the bigest probability. Because the denominator  does not depend on $c$ this is same as picking biggest of all $P(X=x|Y=c)\\pi_c$. That is classifier picks class $c$ iff"
      ],
      "metadata": {}
    },
    {
      "cell_type": "markdown",
      "source": [
        "$$ P(X=x|Y=c)\\pi_c > P(X=x|Y=c')\\pi_{c'}, \\text{ for all } c'\\neq c$$"
      ],
      "metadata": {}
    },
    {
      "cell_type": "markdown",
      "source": [
        "This defines a region that is a intersection of $K-1$ regions defined by a single inequality  $P(X=x|Y=c)\\pi_c > P(X=x|Y=c')\\pi_{c'}$. The boundary of this region is defined by the equality"
      ],
      "metadata": {}
    },
    {
      "cell_type": "markdown",
      "source": [
        "$$P(X=x|Y=c)\\pi_c = P(X=x|Y=c')\\pi_{c'}$$"
      ],
      "metadata": {}
    },
    {
      "cell_type": "markdown",
      "source": [
        "Plugging in the multivariate gaussian distribution we obtain equation"
      ],
      "metadata": {}
    },
    {
      "cell_type": "markdown",
      "source": [
        "$$\n",
        "\\frac{\\pi_c}{(2\\pi)^{D/2}|\\b\\Sigma_c|^{1/2}}\n",
        "e^{\\displaystyle-\\frac{1}{2}\\left(\\mathbf{x}-\\b\\mu_c\\right)^T{\\b\\Sigma_c}^{-1}\\left(\\mathbf{x}-\\b\\mu_c\\right)}\n",
        "=\n",
        "\\frac{\\pi_{c'}}{(2\\pi)^{D/2}|\\b\\Sigma_{c'}|^{1/2}}\n",
        "e^{\\displaystyle-\\frac{1}{2}\\left(\\mathbf{x}-\\b\\mu_{c'}\\right)^T{\\b\\Sigma_{c'}}^{-1}\\left(\\mathbf{x}-\\b\\mu_{c'}\\right)}\n",
        "$$"
      ],
      "metadata": {}
    },
    {
      "cell_type": "markdown",
      "source": [
        "Taking the logarithm of both sides and droping common terms we obtain"
      ],
      "metadata": {}
    },
    {
      "cell_type": "markdown",
      "source": [
        "$$\n",
        "\\log\\pi_c-\n",
        "\\frac{1}{2}\\log|\\b\\Sigma_c|^{1/2}\n",
        "-\\frac{1}{2}\\left(\\mathbf{x}-\\b\\mu_c\\right)^T{\\b\\Sigma_c}^{-1}\\left(\\mathbf{x}-\\b\\mu_c\\right)\n",
        "=\n",
        "\\log\\pi_{c'}-\\frac{1}{2}\\log |\\b\\Sigma_{c'}|^{1/2}\n",
        "-\\frac{1}{2}\\left(\\mathbf{x}-\\b\\mu_{c'}\\right)^T{\\b\\Sigma_{c'}}^{-1}\\left(\\mathbf{x}-\\b\\mu_{c'}\\right)$$"
      ],
      "metadata": {}
    },
    {
      "cell_type": "markdown",
      "source": [
        "Which is a quadratic equation in $\\b x$.  So the final region is an intersection of regions with quadratic boundaries, so its boundary is piecewise quadratic. "
      ],
      "metadata": {}
    },
    {
      "cell_type": "markdown",
      "source": [
        "## Naive Bayes"
      ],
      "metadata": {}
    },
    {
      "cell_type": "markdown",
      "source": [
        "In our case we had ample data to fit the distributions. Each distribution requires five parameters so we have ten parameters in  total but the training set contains few thousands examples. Moreover  the classes are balanced. However the number of parameters grows quadratically with the number of dimensions. On (brutal) way of  reducing the number of parameters is to consider only the _diagonal_ $\\b\\Sigma$ matrices. This mean that we treat all features as conditionally independent so this is just Naive Bayes we have already considered.  We will redo this example here but this time  with  height and weight.  Those variables  are evidently correlated, this will enable us to see more clearly what kind of approximations we are making. We will also use the functions supplied in the scikit-learn library instead of constructing the classifier \"by hand\"."
      ],
      "metadata": {}
    },
    {
      "cell_type": "code",
      "source": [
        "from sklearn.naive_bayes import GaussianNB"
      ],
      "outputs": [],
      "execution_count": null,
      "metadata": {}
    },
    {
      "cell_type": "code",
      "source": [
        "nb_cls = GaussianNB()"
      ],
      "outputs": [],
      "execution_count": null,
      "metadata": {}
    },
    {
      "cell_type": "code",
      "source": [
        "nb_cls.fit(train_data[['Height', 'Weight']], train_data.Gender=='Female')"
      ],
      "outputs": [],
      "execution_count": null,
      "metadata": {}
    },
    {
      "cell_type": "code",
      "source": [
        "# The standard classifiers in sklearn return probabilities for all the classes. In case of binary classifier we need only one. \n",
        "test_predicted_proba_nb = nb_cls.predict_proba(test_data[['Height', 'Weight']])[:,1] "
      ],
      "outputs": [],
      "execution_count": null,
      "metadata": {}
    },
    {
      "cell_type": "code",
      "source": [
        "pd.DataFrame(confusion_matrix(test_data.Gender=='Female', test_predicted_proba_nb>0.5, normalize='true')) "
      ],
      "outputs": [],
      "execution_count": null,
      "metadata": {}
    },
    {
      "cell_type": "code",
      "source": [
        "fig, ax = roc_plot()\n",
        "add_roc_curve(fig,ax, test_data.Gender=='Female', test_predicted_proba_gda, \"QDA\")\n",
        "add_roc_curve(fig,ax, test_data.Gender=='Female', test_predicted_proba_nb, \"NB\")\n",
        "ax.legend(title='AUC')"
      ],
      "outputs": [],
      "execution_count": null,
      "metadata": {}
    },
    {
      "cell_type": "markdown",
      "source": [
        "The performance  of this classifer is not that much worse! Let's look at the fitted distributions and the decision boundary"
      ],
      "metadata": {}
    },
    {
      "cell_type": "code",
      "source": [
        "fig, ax = hw_plot()\n",
        "hw_scatter(fig,ax,train_data_F, train_data_M)\n",
        "confidence_ellipse(nb_cls.theta_[1], np.diag(nb_cls.sigma_[1]), ax, edgecolor = f_color)\n",
        "confidence_ellipse(nb_cls.theta_[0], np.diag(nb_cls.sigma_[0]), ax, edgecolor = m_color)\n",
        "cs_qda = ax.contour(*grid(hs,ws,prob_F_cond_HW),  levels=[0.5], colors=['red']);\n",
        "ax.clabel(cs_qda,[0.5], fmt=\"QDA\");\n",
        "cs_nb = ax.contour(*grid(hs,ws,lambda a: nb_cls.predict_proba(a)[:,1]), levels=[0.5], colors=['darkviolet']);\n",
        "ax.clabel(cs_nb,[0.5], fmt=\"NB\");"
      ],
      "outputs": [],
      "execution_count": null,
      "metadata": {}
    },
    {
      "cell_type": "markdown",
      "source": [
        "We can see that the distributions are wide off the mark. Naive Bayes has constrained them to by parallel to the axes.  The decision boundary is also different, but it manages to separate clearly the centers of the clusters from each other. And that's where most of the samples are. This can be better seen on the histogram"
      ],
      "metadata": {}
    },
    {
      "cell_type": "code",
      "source": [
        "fig, ax = plt.subplots()\n",
        "hw_hexbin(fig,ax, train_data, extent=(1.3,2.1,30, 120))\n",
        "confidence_ellipse(nb_cls.theta_[1], np.diag(nb_cls.sigma_[1]), ax, edgecolor = f_color)\n",
        "confidence_ellipse(nb_cls.theta_[0], np.diag(nb_cls.sigma_[0]), ax, edgecolor = m_color)\n",
        "cs_qda = ax.contour(*grid(hs,ws,prob_F_cond_HW),  levels=[0.5], colors=['red']);\n",
        "ax.clabel(cs_qda,[0.5], fmt=\"QDA\");\n",
        "cs_nb = ax.contour(*grid(hs,ws,lambda a: nb_cls.predict_proba(a)[:,1]), levels=[0.5], colors=['darkviolet']);\n",
        "ax.clabel(cs_nb,[0.5], fmt=\"NB\");"
      ],
      "outputs": [],
      "execution_count": null,
      "metadata": {}
    },
    {
      "cell_type": "markdown",
      "source": [
        "The violet line also clearly separates the two peaks which explains not so bad performance of the classifier. "
      ],
      "metadata": {}
    },
    {
      "cell_type": "markdown",
      "source": [
        "## Linear Discriminative Analysis"
      ],
      "metadata": {}
    },
    {
      "cell_type": "markdown",
      "source": [
        "Another way of reducing the number of parameters is to fit  only one common $\\b\\Sigma$ matrix. That's we assume that all the classes have similar \"shape\" and differ only by the localisation of centers. "
      ],
      "metadata": {}
    },
    {
      "cell_type": "markdown",
      "source": [
        "__Problem__ Show that in this case decisions boundaries are straight lines. "
      ],
      "metadata": {}
    },
    {
      "cell_type": "markdown",
      "source": [
        "Because of this property This approach is called _Linear Discriminative Analysis_ and you have already encountered it on previous lectures. \n",
        "Let's try it out on our dataset. "
      ],
      "metadata": {}
    },
    {
      "cell_type": "code",
      "source": [
        "from sklearn.discriminant_analysis import LinearDiscriminantAnalysis"
      ],
      "outputs": [],
      "execution_count": null,
      "metadata": {}
    },
    {
      "cell_type": "code",
      "source": [
        "lda_cls = LinearDiscriminantAnalysis(store_covariance=True) # we will need the covariance matrix later for illustrative purposes. "
      ],
      "outputs": [],
      "execution_count": null,
      "metadata": {}
    },
    {
      "cell_type": "code",
      "source": [
        "lda_cls.fit(train_data[['Height', 'Weight']], train_data.Gender=='Female')"
      ],
      "outputs": [],
      "execution_count": null,
      "metadata": {}
    },
    {
      "cell_type": "code",
      "source": [
        "test_predicted_proba_lda = lda_cls.predict_proba(test_data[['Height', 'Weight']])[:,1]"
      ],
      "outputs": [],
      "execution_count": null,
      "metadata": {}
    },
    {
      "cell_type": "code",
      "source": [
        "pd.DataFrame(confusion_matrix(test_data.Gender=='Female', test_predicted_proba_lda>0.5, normalize='true'))"
      ],
      "outputs": [],
      "execution_count": null,
      "metadata": {}
    },
    {
      "cell_type": "code",
      "source": [
        "fig, ax = roc_plot()\n",
        "add_roc_curve(fig,ax, test_data.Gender=='Female', test_predicted_proba_gda, \"QDA\")\n",
        "add_roc_curve(fig,ax, test_data.Gender=='Female', test_predicted_proba_nb, \"NB\")\n",
        "add_roc_curve(fig,ax, test_data.Gender=='Female', test_predicted_proba_lda, \"LDA\")\n",
        "ax.legend(title='AUC');"
      ],
      "outputs": [],
      "execution_count": null,
      "metadata": {}
    },
    {
      "cell_type": "markdown",
      "source": [
        "The performance of this classifier is undistinguishable from performance of the Quadratic Discriminator.  This is because the two distributions have roughly same shape so the approximation is valid."
      ],
      "metadata": {}
    },
    {
      "cell_type": "code",
      "source": [
        "fig, ax = hw_plot()\n",
        "hw_scatter(fig,ax, train_data_F, train_data_M)\n",
        "confidence_ellipse(nb_cls.theta_[1], lda_cls.covariance_, ax, edgecolor = f_color)\n",
        "confidence_ellipse(nb_cls.theta_[0], lda_cls.covariance_, ax, edgecolor = m_color)\n",
        "cs_qda = ax.contour(*grid(hs,ws,prob_F_cond_HW),  levels=[0.5], colors=['red']);\n",
        "ax.clabel(cs_qda,[0.5], fmt=\"QDA\");\n",
        "cs_nb = ax.contour(*grid(hs,ws,lambda a: nb_cls.predict_proba(a)[:,1]), levels=[0.5], colors=['darkviolet']);\n",
        "ax.clabel(cs_nb,[0.5], fmt=\"NB\");\n",
        "cs_lda = ax.contour(*grid(hs,ws,lambda a: lda_cls.predict_proba(a)[:,1]), [0.5], colors=['green']);\n",
        "ax.clabel(cs_lda,[0.5], fmt=\"LDA\");"
      ],
      "outputs": [],
      "execution_count": null,
      "metadata": {}
    },
    {
      "cell_type": "markdown",
      "source": [
        "As you can see the LDA decision boundary (that indeed is a straight line) is very close to quadratic boundary in the region of interest."
      ],
      "metadata": {}
    },
    {
      "cell_type": "code",
      "source": [
        "fig, ax = plt.subplots()\n",
        "hw_hexbin(fig, ax, train_data, extent=(1.3, 2.1, 30, 120))\n",
        "confidence_ellipse(nb_cls.theta_[1], lda_cls.covariance_, ax, edgecolor = f_color)\n",
        "confidence_ellipse(nb_cls.theta_[0], lda_cls.covariance_, ax, edgecolor = m_color)\n",
        "cs_qda = ax.contour(*grid(hs,ws,prob_F_cond_HW),  levels=[0.5], colors=['red']);\n",
        "ax.clabel(cs_qda,[0.5], fmt=\"QDA\");\n",
        "cs_nb = ax.contour(*grid(hs,ws,lambda a: nb_cls.predict_proba(a)[:,1]), levels=[0.5], colors=['darkviolet']);\n",
        "ax.clabel(cs_nb,[0.5], fmt=\"NB\");\n",
        "cs_lda = ax.contour(*grid(hs,ws,lambda a: lda_cls.predict_proba(a)[:,1]), [0.5], colors=['green']);\n",
        "ax.clabel(cs_lda,[0.5], fmt=\"LDA\");"
      ],
      "outputs": [],
      "execution_count": null,
      "metadata": {}
    },
    {
      "cell_type": "code",
      "source": [],
      "outputs": [],
      "execution_count": null,
      "metadata": {}
    }
  ],
  "metadata": {
    "jupytext": {
      "text_representation": {
        "extension": ".Rmd",
        "format_name": "rmarkdown",
        "format_version": "1.2",
        "jupytext_version": "1.4.1"
      }
    },
    "kernelspec": {
      "display_name": "Python 3",
      "language": "python",
      "name": "python3"
    },
    "language_info": {
      "name": "python",
      "version": "3.7.11",
      "mimetype": "text/x-python",
      "codemirror_mode": {
        "name": "ipython",
        "version": 3
      },
      "pygments_lexer": "ipython3",
      "nbconvert_exporter": "python",
      "file_extension": ".py"
    },
    "nteract": {
      "version": "0.28.0"
    }
  },
  "nbformat": 4,
  "nbformat_minor": 4
}